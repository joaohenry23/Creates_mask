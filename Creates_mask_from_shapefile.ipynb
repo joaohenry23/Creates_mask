{
 "cells": [
  {
   "cell_type": "code",
   "execution_count": 1,
   "metadata": {},
   "outputs": [],
   "source": [
    "import numpy as np\n",
    "import matplotlib.pyplot as plt\n",
    "import shapefile\n",
    "from shapely.geometry import shape, Point"
   ]
  },
  {
   "cell_type": "code",
   "execution_count": 2,
   "metadata": {},
   "outputs": [],
   "source": [
    "# creates lat lon array\n",
    "respix = 0.25 #0.1\n",
    "lats = np.arange(1.5, -18.75-respix, -respix)\n",
    "lons = np.arange(278.5, 293.0+respix, respix)-360.0\n",
    "lons, lats = np.meshgrid(lons, lats)"
   ]
  },
  {
   "cell_type": "code",
   "execution_count": 3,
   "metadata": {},
   "outputs": [],
   "source": [
    "# import shapefile\n",
    "ShapeFile = '/home/joao/Downloads/Cuzco_new2.shp'\n",
    "\n",
    "# creates mask\n",
    "r = shapefile.Reader(ShapeFile)\n",
    "shapes = r.shapes()\n",
    "polygon = shape(shapes[0])\n",
    "Mask = [[1 if polygon.contains(Point(lons[j,i],lats[j,i]))==True else 0 for i in range(lons.shape[1])] for j in range(lons.shape[0])]\n",
    "Mask = np.array(Mask, dtype='int16')"
   ]
  },
  {
   "cell_type": "code",
   "execution_count": 4,
   "metadata": {},
   "outputs": [
    {
     "data": {
      "image/png": "[encoded data removed]",
      "text/plain": [
       "<Figure size 432x288 with 2 Axes>"
      ]
     },
     "metadata": {
      "needs_background": "light"
     },
     "output_type": "display_data"
    }
   ],
   "source": [
    "img = plt.imshow(Mask)\n",
    "plt.colorbar(img)\n",
    "plt.show()"
   ]
  },
  {
   "cell_type": "code",
   "execution_count": null,
   "metadata": {},
   "outputs": [],
   "source": []
  }
 ],
 "metadata": {
  "kernelspec": {
   "display_name": "Python 3",
   "language": "python",
   "name": "python3"
  },
  "language_info": {
   "codemirror_mode": {
    "name": "ipython",
    "version": 3
   },
   "file_extension": ".py",
   "mimetype": "text/x-python",
   "name": "python",
   "nbconvert_exporter": "python",
   "pygments_lexer": "ipython3",
   "version": "3.6.7"
  }
 },
 "nbformat": 4,
 "nbformat_minor": 2
}
